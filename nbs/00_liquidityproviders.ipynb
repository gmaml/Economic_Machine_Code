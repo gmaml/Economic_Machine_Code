{
 "cells": [
  {
   "cell_type": "markdown",
   "metadata": {},
   "source": [
    "# Agents\n",
    "\n",
    "> It includes three classes of ultra liquidity providers: Central bank, Treasury and Commercial banks"
   ]
  },
  {
   "cell_type": "code",
   "execution_count": null,
   "metadata": {},
   "outputs": [],
   "source": [
    "#| default_exp Agents"
   ]
  },
  {
   "cell_type": "code",
   "execution_count": null,
   "metadata": {},
   "outputs": [],
   "source": [
    "#| hide\n",
    "from nbdev.showdoc import *\n",
    "from fastcore.test import *"
   ]
  },
  {
   "cell_type": "code",
   "execution_count": null,
   "metadata": {},
   "outputs": [],
   "source": [
    "from typing import Dict,List\n",
    "from pydantic import BaseModel"
   ]
  },
  {
   "cell_type": "code",
   "execution_count": null,
   "metadata": {},
   "outputs": [],
   "source": [
    "#| export\n",
    "\n",
    "class AccountEntry(BaseModel):\n",
    "    asset: Dict[str, float]\n",
    "    liability: Dict[str, float]\n",
    "\n",
    "class Agent():\n",
    "    def __init__(self,name:str):\n",
    "        self.name = name   \n",
    "    def __str__(self):\n",
    "        return f'{self.name}'\n",
    "    __repr__=__str__\n",
    "\n",
    "class EconomicAgent(Agent):\n",
    "    def __init__(self, name: str, allowed_assets: List[str], allowed_liabilities: List[str], entry: AccountEntry = AccountEntry(asset={}, liability={})):\n",
    "        super().__init__(name)\n",
    "        self.asset = {k: 0.0 for k in allowed_assets}\n",
    "        self.liability = {k: 0.0 for k in allowed_liabilities}\n",
    "\n",
    "        input_data = {'asset': entry.asset, 'liability': entry.liability}\n",
    "        validated_data = AccountEntry(**input_data)\n",
    "\n",
    "        if not set(validated_data.asset.keys()).issubset(set(allowed_assets)):\n",
    "            raise ValueError(f'Invalid asset item. The valid items are {allowed_assets}.')\n",
    "        if not set(validated_data.liability.keys()).issubset(set(allowed_liabilities)):\n",
    "            raise ValueError('Invalid liability item.')\n",
    "        if sum(validated_data.asset.values()) != sum(validated_data.liability.values()):\n",
    "            raise ValueError('The sum of asset must be equal to the sum of liability!')\n",
    "\n",
    "        for k, v in validated_data.asset.items():\n",
    "            self.asset[k] = v\n",
    "\n",
    "        for k, v in validated_data.liability.items():\n",
    "            self.liability[k] = v\n",
    "\n",
    "    @property\n",
    "    def total_asset(self):\n",
    "        return sum(self.asset.values())\n",
    "\n",
    "    @property\n",
    "    def total_liability(self):\n",
    "        return sum(self.liability.values())\n",
    "    \n",
    "    def is_liquidity_provider(self,allowed_liabilities:List[str])->bool:\n",
    "        return ('Treasury' in allowed_liabilities) or ('Deposit' in allowed_liabilities) or ('Bank Reserves' in allowed_liabilities) \n",
    "        \n",
    "        \n",
    "\n",
    "    def __str__(self):\n",
    "        return f'{self.name}: total asset/liability is {self.total_asset}'\n",
    "\n",
    "    __repr__ = __str__\n",
    "\n",
    "\n",
    "class CentralBank(EconomicAgent):\n",
    "    allowed_assets = ['Treasury', 'CB Loan']\n",
    "    allowed_liabilities = ['Bank Reserves', 'Cash', 'TGA']\n",
    "\n",
    "    def __init__(self, entry: AccountEntry = AccountEntry(asset={}, liability={})):\n",
    "        super().__init__('Central Bank', CentralBank.allowed_assets, CentralBank.allowed_liabilities, entry)\n",
    "        \n",
    "    def treasury_tranactions(self, counterparty: EconomicAgent, transaction: str = 'buy', amount: float = 0.0) -> None:\n",
    "        if isinstance(counterparty, CentralBank):\n",
    "            print('Central bank cannot trade with itself!')\n",
    "        elif isinstance(counterparty, Treasury):\n",
    "            if transaction == 'sell':\n",
    "                raise ValueError('Central bank cannot sell treasuries to Treasury!')\n",
    "            elif transaction == 'buy':\n",
    "                self.asset['Treasury'] += amount\n",
    "                self.liability['TGA'] += amount\n",
    "                counterparty.asset['TGA'] += amount\n",
    "                counterparty.liability['Treasury'] += amount\n",
    "            else:\n",
    "                raise ValueError('Transaction has to be buy or sell!')\n",
    "        else:\n",
    "            pass\n",
    "\n",
    "\n",
    "class Treasury(EconomicAgent):\n",
    "    allowed_assets = ['TGA']\n",
    "    allowed_liabilities = ['Treasury']\n",
    "\n",
    "    def __init__(self, entry: AccountEntry = AccountEntry(asset={}, liability={})):\n",
    "        super().__init__('Treasury', Treasury.allowed_assets, Treasury.allowed_liabilities, entry)\n",
    "\n",
    "    def treasury_tranactions(self, counterparty: EconomicAgent, transaction: str = 'sell', amount: float = 0.0) -> None:\n",
    "        if isinstance(counterparty, Treasury):\n",
    "            print('Treasury cannot trade with itself!')\n",
    "        elif isinstance(counterparty, CentralBank):\n",
    "            if transaction == 'buy':\n",
    "                raise ValueError('Treasury cannot buy treasuries from central bank!')\n",
    "            elif transaction == 'sell':\n",
    "                self.asset['TGA'] += amount\n",
    "                self.liability['Treasury'] += amount\n",
    "                counterparty.liability['TGA'] += amount\n",
    "                counterparty.asset['Treasury'] +=amount\n",
    "            else:\n",
    "                raise ValueError('Transaction has to be buy or sell!')\n",
    "        else:\n",
    "            pass\n",
    "        \n",
    "class CommercialBanks(EconomicAgent):\n",
    "    allowed_assets = ['Treasury','Loan','Bank Reserves']\n",
    "    allowed_liabilities = ['Deposit']\n",
    "\n",
    "    def __init__(self, entry: AccountEntry = AccountEntry(asset={}, liability={})):\n",
    "        super().__init__('CommercialBanks', CommercialBanks.allowed_assets, CommercialBanks.allowed_liabilities, entry)\n",
    "\n",
    "class Private(EconomicAgent):\n",
    "    allowed_assets = ['Treasury','Loan','Deposit','Cash']\n",
    "    allowed_liabilities = ['Equity']\n",
    "\n",
    "    def __init__(self, entry: AccountEntry = AccountEntry(asset={}, liability={})):\n",
    "        super().__init__('Private', Private.allowed_assets, Private.allowed_liabilities, entry)\n",
    "\n",
    "        "
   ]
  },
  {
   "cell_type": "code",
   "execution_count": null,
   "metadata": {},
   "outputs": [],
   "source": [
    "cb = CentralBank()     \n",
    "assert cb.total_asset==0.0\n"
   ]
  },
  {
   "cell_type": "code",
   "execution_count": null,
   "metadata": {},
   "outputs": [],
   "source": [
    "entry = AccountEntry(asset= {'Treasury':100}, liability={'TGA':100})\n",
    "cb2 = CentralBank(entry)\n",
    "assert cb2.total_liability == 100.0"
   ]
  },
  {
   "cell_type": "code",
   "execution_count": null,
   "metadata": {},
   "outputs": [],
   "source": [
    "#test_fail(lambda: CentralBank(AccountEntry(asset= {'Treasury':120}, liability={'TGA':100})),contains = \"The sum of asset must be equal to the sume of liability!\")\n",
    "#cb3 = CentralBank(AccountEntry(asset= {'Treasury':120}, liability={'TGA':100}))\n"
   ]
  },
  {
   "cell_type": "code",
   "execution_count": null,
   "metadata": {},
   "outputs": [],
   "source": [
    "tr=Treasury()\n",
    "assert tr.total_asset==0.0"
   ]
  },
  {
   "cell_type": "code",
   "execution_count": null,
   "metadata": {},
   "outputs": [],
   "source": [
    "cb2.treasury_tranactions(tr, transaction='buy',amount=150)\n",
    "test_eq(cb2.total_asset, 250.0)\n",
    "test_eq(tr.total_asset, 150.0)"
   ]
  },
  {
   "cell_type": "code",
   "execution_count": null,
   "metadata": {},
   "outputs": [],
   "source": [
    "tr.treasury_tranactions(cb2, transaction='sell',amount=110)\n",
    "test_eq(cb2.total_asset, 360.0)\n",
    "test_eq(tr.total_asset, 260.0)"
   ]
  },
  {
   "cell_type": "code",
   "execution_count": null,
   "metadata": {},
   "outputs": [],
   "source": [
    "#| hide\n",
    "import nbdev; nbdev.nbdev_export()"
   ]
  },
  {
   "cell_type": "code",
   "execution_count": null,
   "metadata": {},
   "outputs": [],
   "source": []
  }
 ],
 "metadata": {
  "kernelspec": {
   "display_name": "python3",
   "language": "python",
   "name": "python3"
  }
 },
 "nbformat": 4,
 "nbformat_minor": 4
}
