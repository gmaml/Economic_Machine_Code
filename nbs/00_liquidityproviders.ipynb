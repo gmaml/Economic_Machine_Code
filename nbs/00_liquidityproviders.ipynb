{
 "cells": [
  {
   "cell_type": "markdown",
   "metadata": {},
   "source": [
    "# liquidity_providers\n",
    "\n",
    "> It includes three classes of ultra liquidity providers: Central bank, Treasury and Commercial banks"
   ]
  },
  {
   "cell_type": "code",
   "execution_count": null,
   "metadata": {},
   "outputs": [],
   "source": [
    "#| default_exp liquidity_providers"
   ]
  },
  {
   "cell_type": "code",
   "execution_count": null,
   "metadata": {},
   "outputs": [],
   "source": [
    "#| hide\n",
    "from nbdev.showdoc import *\n",
    "from fastcore.test import *"
   ]
  },
  {
   "cell_type": "code",
   "execution_count": null,
   "metadata": {},
   "outputs": [],
   "source": [
    "from typing import Dict,Iterable"
   ]
  },
  {
   "cell_type": "code",
   "execution_count": null,
   "metadata": {},
   "outputs": [],
   "source": [
    "AccountEntry = Dict[str,float]"
   ]
  },
  {
   "cell_type": "code",
   "execution_count": null,
   "metadata": {},
   "outputs": [],
   "source": [
    "#| export\n",
    "class liquidityproviders():\n",
    "    def __init__(self,name:str):\n",
    "        self.name = name\n",
    "\n",
    "#class cb_entry():\n",
    "#    def __init__(self,name:str='Treasury',amount:float=0,side:str='asset'):\n",
    "#        if name in central_bank.allowed_assets and side=='asset': # allowed CB assets are ['Treasury','CB Loan']\n",
    "#            self.entry={name:amount}\n",
    "#            self.side = side\n",
    "#        elif name in central_bank.allowed_liabilities and side == 'liability': ## allowed liabilities are  ['Bank Reserves','Cash','TGA']\n",
    "#            self.entry={name:amount}\n",
    "#            self.side = side\n",
    "#        else:\n",
    "#            print('Wrong inputs! Will use the default values')\n",
    "#            self.entry={'Treasury':0}\n",
    "#            self.side='asset'\n",
    "        \n",
    "\n",
    "class CentralBank(liquidityproviders):\n",
    "    allowed_assets=['Treasury','CB Loan']\n",
    "    allowed_liabilities = ['Bank Reserves','Cash','TGA']  # TGA is treasury general account\n",
    "\n",
    "    def __init__(self,asset_input:AccountEntry={},liability_input:AccountEntry={}):\n",
    "        super().__init__('Central Bank')\n",
    "        self.asset={k:0.0 for k in CentralBank.allowed_assets}\n",
    "        self.liability={k:0.0 for k in CentralBank.allowed_liabilities}\n",
    "\n",
    "\n",
    "        if (asset_input is not None) and (liability_input is not None) and \\\n",
    "                sum(asset_input.values()) == sum(liability_input.values()) and \\\n",
    "                set(asset_input.keys()).issubset(set(CentralBank.allowed_assets)) and \\\n",
    "                set(liability_input.keys()).issubset(set(CentralBank.allowed_liabilities)):\n",
    "            for k, v in asset_input.items():\n",
    "                self.asset[k] = v\n",
    "\n",
    "            for k, v in liability_input.items():\n",
    "                self.liability[k] = v\n",
    "        else:\n",
    "            raise NameError('Wrong inputs: Total asset has to equal to total liability!')\n",
    "\n",
    "    @property\n",
    "    def total_asset(self):\n",
    "        return sum(self.asset.values())\n",
    "\n",
    "    @property\n",
    "    def total_liability(self):\n",
    "        return sum(self.liability.values())\n",
    "        \n",
    "    \n",
    "    def __str__(self):\n",
    "        return f'{self.name}: total asset/liability is {self.total_asset}'\n",
    "    \n",
    "    __repr__=__str__\n",
    "\n",
    "        \n",
    "    def treasury_tranactions(self, counterparty:liquidityproviders, transaction:str='buy',amount:float=0.0)->None:\n",
    "        \"Central banks buys treasuries from Treasury or central banks buys/sells treasuries to commercial banks\"\n",
    "        if isinstance(counterparty,CentralBank):\n",
    "            print('Central bank cannot trade with itself!')\n",
    "        elif isinstance(counterparty,Treasury):\n",
    "            if transaction =='sell':\n",
    "                print('Central bank cannot sell treasuries to Treasuty!')\n",
    "\n",
    "            elif transaction == 'buy':\n",
    "                self.asset['Treasury'] += amount\n",
    "                self.liability['TGA'] += amount\n",
    "                counterparty.asset['TGA'] += amount\n",
    "                counterparty.liability['Treasury'] +=amount\n",
    "            else:\n",
    "                print('Transaction has to be buy or sell!')\n",
    "            \n",
    "class Treasury(liquidityproviders):\n",
    "    allowed_assets=['TGA']\n",
    "    allowed_liabilities=['Treasury']\n",
    "    \n",
    "    def __init__(self,asset_input:AccountEntry={},liability_input:AccountEntry={}):\n",
    "        super().__init__('Treasury')\n",
    "\n",
    "        self.asset={k:0.0 for k in Treasury.allowed_assets}\n",
    "        self.liability={k:0.0 for k in Treasury.allowed_liabilities}\n",
    "        if (asset_input is not None) and (liability_input is not None) and \\\n",
    "                sum(asset_input.values()) == sum(liability_input.values()) and \\\n",
    "                set(asset_input.keys()).issubset(set(Treasury.allowed_assets)) and \\\n",
    "                set(liability_input.keys()).issubset(set(Treasury.allowed_liabilities)):\n",
    "            for k, v in asset_input.items():\n",
    "                self.asset[k] = v\n",
    "\n",
    "            for k, v in liability_input.items():\n",
    "                self.liability[k] = v\n",
    "        else:\n",
    "            raise NameError('Wrong inputs: Total asset has to equal to total liability!')\n",
    "\n",
    "       \n",
    "    @property\n",
    "    def total_asset(self):\n",
    "        return sum(self.asset.values())\n",
    "\n",
    "    @property\n",
    "    def total_liability(self):\n",
    "        return sum(self.liability.values())\n",
    "        \n",
    "    \n",
    "    def __str__(self):\n",
    "        return f'{self.name}: total asset/liability is {self.total_asset}'\n",
    "    \n",
    "    __repr__=__str__\n",
    "\n",
    "        \n",
    "   \n",
    "    def treasury_tranactions(self, counterparty:liquidityproviders, transaction:str='sell',amount:float=0.0)->None:\n",
    "        \"Treasury sells treasurie to central banks, commercial banks or private sector\"\n",
    "        if isinstance(counterparty,Treasury):\n",
    "            print('Treasury cannot trade with itself!')\n",
    "        elif isinstance(counterparty,CentralBank):\n",
    "            if transaction =='buy':\n",
    "                print('Treasury cannot buy treasuries from central bank!')\n",
    "\n",
    "            elif transaction == 'sell':\n",
    "                self.asset['TGA'] += amount\n",
    "                self.liability['Treasury'] += amount\n",
    "                counterparty.liability['TGA'] += amount\n",
    "                counterparty.asset['Treasury'] +=amount\n",
    "            else:\n",
    "                print('Transaction has to be buy or sell!')\n",
    "\n",
    "        "
   ]
  },
  {
   "cell_type": "code",
   "execution_count": null,
   "metadata": {},
   "outputs": [],
   "source": [
    "cb = CentralBank()     \n",
    "assert cb.total_asset==0.0\n"
   ]
  },
  {
   "cell_type": "code",
   "execution_count": null,
   "metadata": {},
   "outputs": [],
   "source": [
    "cb2 = CentralBank({'Treasury':100},{'TGA':100})\n",
    "assert cb2.total_liability == 100.0"
   ]
  },
  {
   "cell_type": "code",
   "execution_count": null,
   "metadata": {},
   "outputs": [
    {
     "name": "stdout",
     "output_type": "stream",
     "text": [
      "error\n"
     ]
    }
   ],
   "source": [
    "try: \n",
    "    cb3 = CentralBank({'Trry':100},{'TGA':100})\n",
    "except:\n",
    "       print('error')"
   ]
  },
  {
   "cell_type": "code",
   "execution_count": null,
   "metadata": {},
   "outputs": [],
   "source": [
    "tr=Treasury()\n",
    "assert tr.total_asset==0.0"
   ]
  },
  {
   "cell_type": "code",
   "execution_count": null,
   "metadata": {},
   "outputs": [],
   "source": [
    "cb2.treasury_tranactions(tr, transaction='buy',amount=150)\n",
    "test_eq(cb2.total_asset, 250.0)\n",
    "test_eq(tr.total_asset, 150.0)"
   ]
  },
  {
   "cell_type": "code",
   "execution_count": null,
   "metadata": {},
   "outputs": [
    {
     "ename": "KeyError",
     "evalue": "'Treasuries'",
     "output_type": "error",
     "traceback": [
      "\u001b[0;31m---------------------------------------------------------------------------\u001b[0m",
      "\u001b[0;31mKeyError\u001b[0m                                  Traceback (most recent call last)",
      "Cell \u001b[0;32mIn[12], line 1\u001b[0m\n\u001b[0;32m----> 1\u001b[0m \u001b[43mtr\u001b[49m\u001b[38;5;241;43m.\u001b[39;49m\u001b[43mtreasury_tranactions\u001b[49m\u001b[43m(\u001b[49m\u001b[43mcb2\u001b[49m\u001b[43m,\u001b[49m\u001b[43m \u001b[49m\u001b[43mtransaction\u001b[49m\u001b[38;5;241;43m=\u001b[39;49m\u001b[38;5;124;43m'\u001b[39;49m\u001b[38;5;124;43msell\u001b[39;49m\u001b[38;5;124;43m'\u001b[39;49m\u001b[43m,\u001b[49m\u001b[43mamount\u001b[49m\u001b[38;5;241;43m=\u001b[39;49m\u001b[38;5;241;43m110\u001b[39;49m\u001b[43m)\u001b[49m\n\u001b[1;32m      2\u001b[0m test_eq(cb2\u001b[38;5;241m.\u001b[39mtotal_asset, \u001b[38;5;241m360.0\u001b[39m)\n\u001b[1;32m      3\u001b[0m test_eq(tr\u001b[38;5;241m.\u001b[39mtotal_asset, \u001b[38;5;241m260.0\u001b[39m)\n",
      "Cell \u001b[0;32mIn[5], line 121\u001b[0m, in \u001b[0;36mTreasury.treasury_tranactions\u001b[0;34m(self, counterparty, transaction, amount)\u001b[0m\n\u001b[1;32m    119\u001b[0m \u001b[38;5;28;01melif\u001b[39;00m transaction \u001b[38;5;241m==\u001b[39m \u001b[38;5;124m'\u001b[39m\u001b[38;5;124msell\u001b[39m\u001b[38;5;124m'\u001b[39m:\n\u001b[1;32m    120\u001b[0m     \u001b[38;5;28mself\u001b[39m\u001b[38;5;241m.\u001b[39masset[\u001b[38;5;124m'\u001b[39m\u001b[38;5;124mTGA\u001b[39m\u001b[38;5;124m'\u001b[39m] \u001b[38;5;241m+\u001b[39m\u001b[38;5;241m=\u001b[39m amount\n\u001b[0;32m--> 121\u001b[0m     \u001b[38;5;28mself\u001b[39m\u001b[38;5;241m.\u001b[39mliability[\u001b[38;5;124m'\u001b[39m\u001b[38;5;124mTreasuries\u001b[39m\u001b[38;5;124m'\u001b[39m] \u001b[38;5;241m+\u001b[39m\u001b[38;5;241m=\u001b[39m amount\n\u001b[1;32m    122\u001b[0m     counterparty\u001b[38;5;241m.\u001b[39mliability[\u001b[38;5;124m'\u001b[39m\u001b[38;5;124mTGA\u001b[39m\u001b[38;5;124m'\u001b[39m] \u001b[38;5;241m+\u001b[39m\u001b[38;5;241m=\u001b[39m amount\n\u001b[1;32m    123\u001b[0m     counterparty\u001b[38;5;241m.\u001b[39masset[\u001b[38;5;124m'\u001b[39m\u001b[38;5;124mTreasury\u001b[39m\u001b[38;5;124m'\u001b[39m] \u001b[38;5;241m+\u001b[39m\u001b[38;5;241m=\u001b[39mamount\n",
      "\u001b[0;31mKeyError\u001b[0m: 'Treasuries'"
     ]
    }
   ],
   "source": [
    "tr.treasury_tranactions(cb2, transaction='sell',amount=110)\n",
    "test_eq(cb2.total_asset, 360.0)\n",
    "test_eq(tr.total_asset, 260.0)"
   ]
  },
  {
   "cell_type": "code",
   "execution_count": null,
   "metadata": {},
   "outputs": [],
   "source": [
    "#| hide\n",
    "import nbdev; nbdev.nbdev_export()"
   ]
  },
  {
   "cell_type": "code",
   "execution_count": null,
   "metadata": {},
   "outputs": [],
   "source": []
  }
 ],
 "metadata": {
  "kernelspec": {
   "display_name": "python3",
   "language": "python",
   "name": "python3"
  }
 },
 "nbformat": 4,
 "nbformat_minor": 4
}
